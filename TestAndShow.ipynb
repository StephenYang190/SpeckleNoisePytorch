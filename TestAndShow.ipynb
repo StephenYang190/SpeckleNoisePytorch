{
 "cells": [
  {
   "cell_type": "code",
   "execution_count": 1,
   "metadata": {},
   "outputs": [
    {
     "name": "stdout",
     "output_type": "stream",
     "text": [
      "Traceback (most recent call last):\r\n",
      "  File \"main.py\", line 70, in <module>\r\n",
      "    main(config)\r\n",
      "  File \"main.py\", line 19, in main\r\n",
      "    test_loader = get_loader(config, mode='test')\r\n",
      "  File \"/tf/notebooks/SpeckleRomovalPytorch/dataset.py\", line 78, in get_loader\r\n",
      "    dataset = ImageDataTest(config.test_root, config.test_list)\r\n",
      "  File \"/tf/notebooks/SpeckleRomovalPytorch/dataset.py\", line 50, in __init__\r\n",
      "    with open(self.data_list, 'r') as f:\r\n",
      "FileNotFoundError: [Errno 2] No such file or directory: '../DataRoot/TEST/sythetics/test.lst'\r\n"
     ]
    }
   ],
   "source": [
    "!python main.py --mode test --op om --model omcheck/demo-04/epoch_70.pth --device_id cuda:0"
   ]
  },
  {
   "cell_type": "code",
   "execution_count": 2,
   "metadata": {},
   "outputs": [],
   "source": [
    "from matplotlib import pyplot as plt\n",
    "import cv2\n",
    "import numpy as np\n",
    "import os"
   ]
  },
  {
   "cell_type": "code",
   "execution_count": 3,
   "metadata": {},
   "outputs": [
    {
     "ename": "FileNotFoundError",
     "evalue": "[Errno 2] No such file or directory: './test/demo-18/'",
     "output_type": "error",
     "traceback": [
      "\u001b[0;31m---------------------------------------------------------------------------\u001b[0m",
      "\u001b[0;31mFileNotFoundError\u001b[0m                         Traceback (most recent call last)",
      "\u001b[0;32m<ipython-input-3-30d0dbf95bf7>\u001b[0m in \u001b[0;36m<module>\u001b[0;34m\u001b[0m\n\u001b[1;32m      1\u001b[0m \u001b[0mdataPath\u001b[0m \u001b[0;34m=\u001b[0m \u001b[0;34m'./test/demo-18/'\u001b[0m\u001b[0;34m\u001b[0m\u001b[0;34m\u001b[0m\u001b[0m\n\u001b[0;32m----> 2\u001b[0;31m \u001b[0mfiles\u001b[0m \u001b[0;34m=\u001b[0m \u001b[0mos\u001b[0m\u001b[0;34m.\u001b[0m\u001b[0mlistdir\u001b[0m\u001b[0;34m(\u001b[0m\u001b[0mdataPath\u001b[0m\u001b[0;34m)\u001b[0m\u001b[0;34m\u001b[0m\u001b[0;34m\u001b[0m\u001b[0m\n\u001b[0m\u001b[1;32m      3\u001b[0m \u001b[0;34m\u001b[0m\u001b[0m\n\u001b[1;32m      4\u001b[0m \u001b[0;32mfor\u001b[0m \u001b[0mfile\u001b[0m \u001b[0;32min\u001b[0m \u001b[0mfiles\u001b[0m\u001b[0;34m:\u001b[0m\u001b[0;34m\u001b[0m\u001b[0;34m\u001b[0m\u001b[0m\n\u001b[1;32m      5\u001b[0m     \u001b[0;32mif\u001b[0m \u001b[0mfile\u001b[0m\u001b[0;34m.\u001b[0m\u001b[0mendswith\u001b[0m\u001b[0;34m(\u001b[0m\u001b[0;34m\".png\"\u001b[0m \u001b[0;32mor\u001b[0m \u001b[0;34m\".jpg\"\u001b[0m\u001b[0;34m)\u001b[0m\u001b[0;34m:\u001b[0m\u001b[0;34m\u001b[0m\u001b[0;34m\u001b[0m\u001b[0m\n",
      "\u001b[0;31mFileNotFoundError\u001b[0m: [Errno 2] No such file or directory: './test/demo-18/'"
     ]
    }
   ],
   "source": [
    "dataPath = './test/demo-18/'\n",
    "files = os.listdir(dataPath)\n",
    "\n",
    "for file in files:\n",
    "    if file.endswith(\".png\" or \".jpg\"):\n",
    "\n",
    "        noiseImg = dataPath + file\n",
    "        noiseImg = cv2.imread(noiseImg)\n",
    "\n",
    "        high, weight, _ = noiseImg.shape\n",
    "\n",
    "        noiseImg = np.asarray(noiseImg / 255.0, np.float)\n",
    "\n",
    "        plt.figure()\n",
    "        plt.title(file)\n",
    "        plt.imshow(noiseImg, cmap='gray')\n",
    "        plt.show()"
   ]
  },
  {
   "cell_type": "code",
   "execution_count": null,
   "metadata": {},
   "outputs": [],
   "source": []
  }
 ],
 "metadata": {
  "kernelspec": {
   "display_name": "Python 3",
   "language": "python",
   "name": "python3"
  },
  "language_info": {
   "codemirror_mode": {
    "name": "ipython",
    "version": 3
   },
   "file_extension": ".py",
   "mimetype": "text/x-python",
   "name": "python",
   "nbconvert_exporter": "python",
   "pygments_lexer": "ipython3",
   "version": "3.6.9"
  }
 },
 "nbformat": 4,
 "nbformat_minor": 4
}
