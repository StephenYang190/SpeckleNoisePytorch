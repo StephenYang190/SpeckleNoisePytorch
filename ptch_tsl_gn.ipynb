{
 "cells": [
  {
   "cell_type": "code",
   "execution_count": 1,
   "metadata": {},
   "outputs": [],
   "source": [
    "import os\n",
    "import numpy as np\n",
    "import cv2"
   ]
  },
  {
   "cell_type": "code",
   "execution_count": 6,
   "metadata": {},
   "outputs": [
    {
     "name": "stdout",
     "output_type": "stream",
     "text": [
      "Begin.\n",
      "53631.png\n",
      "B_cell_1.png\n",
      "test.lst\n",
      "breast.png\n",
      "36209.png\n",
      "a.png\n",
      "b.png\n",
      "leiomy_1.png\n",
      "1.png\n",
      "leiomy_2.png\n",
      "B_cell_2.png\n",
      "radar.jpg\n",
      "Total:10\n",
      "Finished.\n"
     ]
    }
   ],
   "source": [
    "# parameter\n",
    "imagePath = \"./DataRoot/TEST/origin/\"\n",
    "test_lstPath = \"test.lst\"\n",
    "outRoot = \"./DataRoot/TEST/origin/\"\n",
    "\n",
    "print(\"Begin.\")\n",
    "out = open(outRoot + test_lstPath, 'w')\n",
    "files = os.listdir(imagePath)\n",
    "\n",
    "k = 0\n",
    "for index, file in enumerate(files):\n",
    "    print(file)\n",
    "    if file.endswith(\".png\"):\n",
    "        k = k + 1\n",
    "        out.write(file + '\\n')\n",
    "print(\"Total:\" + str(k))\n",
    "print(\"Finished.\")"
   ]
  },
  {
   "cell_type": "code",
   "execution_count": null,
   "metadata": {},
   "outputs": [],
   "source": []
  }
 ],
 "metadata": {
  "kernelspec": {
   "display_name": "Python 3",
   "language": "python",
   "name": "python3"
  },
  "language_info": {
   "codemirror_mode": {
    "name": "ipython",
    "version": 3
   },
   "file_extension": ".py",
   "mimetype": "text/x-python",
   "name": "python",
   "nbconvert_exporter": "python",
   "pygments_lexer": "ipython3",
   "version": "3.6.9"
  }
 },
 "nbformat": 4,
 "nbformat_minor": 4
}
